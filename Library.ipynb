{
 "cells": [
  {
   "cell_type": "code",
   "execution_count": 3,
   "metadata": {},
   "outputs": [],
   "source": [
    "import numpy as np\n",
    "import numpy\n",
    "np.random.seed(0)\n",
    "import matplotlib.pyplot as plt\n",
    "from numba import jit\n",
    "from sklearn.cluster import KMeans\n",
    "from scipy.spatial.distance import cdist\n",
    "from sklearn.preprocessing import StandardScaler\n",
    "from sklearn.cluster import DBSCAN\n",
    "import time\n",
    "%matplotlib inline\n",
    "%matplotlib inline\n",
    "%config InlineBackend.figure_format = 'retina'"
   ]
  },
  {
   "cell_type": "code",
   "execution_count": 4,
   "metadata": {},
   "outputs": [
    {
     "name": "stdout",
     "output_type": "stream",
     "text": [
      "(3000, 2) <class 'numpy.ndarray'>\n"
     ]
    }
   ],
   "source": [
    "#File containing 30000 data points (2 dimensional)\n",
    "f = open(\"X_l.txt\")\n",
    "X_population = []\n",
    "X_temp = []\n",
    "\n",
    "for line in f:\n",
    "    line = line.strip().split(\" \")\n",
    "    X_values = []\n",
    "    X_values.append(float(line[0]))\n",
    "    X_values.append(float(line[1]))\n",
    "    \n",
    "    X_temp.append(X_values)\n",
    "X_population = np.array(X_temp) #Losing precision\n",
    "\n",
    "indices = np.arange(len(X_population))\n",
    "rnd_indices = np.random.choice(indices, size=3000)\n",
    "X = X_population[rnd_indices]\n",
    "print(X.shape, type(X))"
   ]
  },
  {
   "cell_type": "code",
   "execution_count": 5,
   "metadata": {},
   "outputs": [
    {
     "name": "stdout",
     "output_type": "stream",
     "text": [
      "[1.3857680202242968, 0.8812113977016466, 0.5005044536594112, 0.4671118185529497, 0.4351299377063594, 0.4015556105757843, 0.38027976613408193, 0.35565493026237416, 0.3361426980937073]\n"
     ]
    },
    {
     "data": {
      "image/png": "[encoded data removed]",
      "text/plain": [
       "<Figure size 432x288 with 1 Axes>"
      ]
     },
     "metadata": {
      "image/png": {
       "height": 277,
       "width": 385
      },
      "needs_background": "light"
     },
     "output_type": "display_data"
    }
   ],
   "source": [
    "#Determining the value of k in kmeans\n",
    "\n",
    "distortions = []\n",
    "K = range(1,10)\n",
    "for k in K:\n",
    "    kmeanModel = KMeans(n_clusters=k).fit(X)\n",
    "    kmeanModel.fit(X)\n",
    "    distortions.append(sum(np.min(cdist(X, kmeanModel.cluster_centers_, 'euclidean'), axis=1)) / X.shape[0])\n",
    "#print(distortions)\n",
    "\n",
    "print(distortions)\n",
    "plt.plot(K, distortions, 'bx-')\n",
    "plt.xlabel('k')\n",
    "plt.ylabel('Distortion')\n",
    "plt.title('The Elbow Method showing the optimal k')\n",
    "plt.show()\n",
    "\n",
    "k = 0\n",
    "while(distortions[k] - distortions[k+1] > 0.1):\n",
    "    k = k+1\n",
    "k = k+1"
   ]
  },
  {
   "cell_type": "code",
   "execution_count": 5,
   "metadata": {},
   "outputs": [],
   "source": [
    "# # Visualize the data\n",
    "# fig, ax = plt.subplots(figsize=(4,4))\n",
    "# ax.scatter(X[:,0], X[:,1], alpha=0.5)\n",
    "# ax.set_xlabel('$x_1$')\n",
    "# ax.set_ylabel('$x_2$');"
   ]
  },
  {
   "cell_type": "code",
   "execution_count": 6,
   "metadata": {},
   "outputs": [],
   "source": [
    "#Defining centers\n",
    "centers = [[1, 1], [-1, -1], [1, -1]] #for DBSCAN\n",
    "centroids = np.asarray([[1.0, 1.0], [-1.0, -1.0], [1.0, -1.0]]) #KMeans"
   ]
  },
  {
   "cell_type": "code",
   "execution_count": 7,
   "metadata": {},
   "outputs": [],
   "source": [
    "#@jit\n",
    "def get_distances(centroid, points):\n",
    "    \"\"\"Returns the distance the centroid is from each data point in points.\"\"\"\n",
    "    return np.linalg.norm(points - centroid, axis=1)"
   ]
  },
  {
   "cell_type": "code",
   "execution_count": 8,
   "metadata": {},
   "outputs": [],
   "source": [
    "def MyKMeans(maxiter):\n",
    "    # Loop for the maximum number of iterations\n",
    "    for i in range(maxiter):\n",
    "    \n",
    "        # Assign all points to the nearest centroid\n",
    "        for j, c in enumerate(centroids):\n",
    "            distances[:, j] = get_distances(c, X)\n",
    "        \n",
    "        # Determine class membership of each point by picking the closest centroid\n",
    "        classes = np.argmin(distances, axis=1)\n",
    "    \n",
    "        # Update centroid location using the newly assigned data point classes\n",
    "        for c in range(k):\n",
    "            centroids[c] = np.mean(X[classes == c], 0)\n",
    "            \n",
    "    return centroids, classes"
   ]
  },
  {
   "cell_type": "code",
   "execution_count": 9,
   "metadata": {},
   "outputs": [
    {
     "name": "stdout",
     "output_type": "stream",
     "text": [
      "Elapsed (after compilation) = 0.3169131278991699\n"
     ]
    }
   ],
   "source": [
    "#KMeans\n",
    "\n",
    "maxiter = 50\n",
    "# Initialize the vectors in which we will store the assigned classes of each data point and the calculated distances from each centroid\n",
    "classes = np.zeros(X.shape[0], dtype=np.float64)\n",
    "distances = np.zeros([X.shape[0], k], dtype=np.float64)\n",
    "\n",
    "start_kmeans = time.time()\n",
    "centroids, classes = MyKMeans(maxiter)\n",
    "end_kmeans = time.time()\n",
    "#print(centroids)\n",
    "\n",
    "#Time taken in seconds\n",
    "time_kmeans = end_kmeans - start_kmeans\n",
    "print(\"Elapsed (after compilation) = %s\" % time_kmeans)"
   ]
  },
  {
   "cell_type": "code",
   "execution_count": 13,
   "metadata": {},
   "outputs": [],
   "source": [
    "#Validating\n",
    "kmeans = KMeans(n_clusters=3)\n",
    "kmeans = kmeans.fit(X)\n",
    "centroids_orig = kmeans.cluster_centers_\n",
    "#print(centroids)\n",
    "\n",
    "i = 0\n",
    "#Assuming 100% accuracy\n",
    "accuracy_kmeans = 1\n",
    "while(centroids[i] not in centroids_orig and accuracy_kmeans != 0):\n",
    "    accuracy_kmeans = 0 #Accuracy not 100%"
   ]
  },
  {
   "cell_type": "code",
   "execution_count": 14,
   "metadata": {},
   "outputs": [],
   "source": [
    "#@jit\n",
    "def MyDBSCAN(D, eps, MinPts):\n",
    " \n",
    "    # -1 - Indicates a noise point; 0 - Means the point hasn't been considered yet.\n",
    "    # Initially all labels are 0.    \n",
    "    labels = [0]*len(D)\n",
    "\n",
    "    # C is the ID of the current cluster.    \n",
    "    C = 0\n",
    "    \n",
    "    for P in range(0, len(D)):\n",
    "    \n",
    "        if not (labels[P] == 0):\n",
    "            continue\n",
    "        \n",
    "        # Find all of P's neighboring points.\n",
    "        NeighborPts = regionQuery(D, P, eps)\n",
    "        \n",
    "        if len(NeighborPts) < MinPts:\n",
    "            labels[P] = -1\n",
    "        else: \n",
    "            C += 1\n",
    "            growCluster(D, labels, P, NeighborPts, C, eps, MinPts)\n",
    "    \n",
    "    # All data has been clustered!\n",
    "    return labels\n"
   ]
  },
  {
   "cell_type": "code",
   "execution_count": 15,
   "metadata": {},
   "outputs": [],
   "source": [
    "#@jit\n",
    "def growCluster(D, labels, P, NeighborPts, C, eps, MinPts):\n",
    "   \n",
    "    #`C` - The label for this new cluster.  \n",
    "    # Assign the cluster label to the seed point.\n",
    "    labels[P] = C\n",
    "    \n",
    "    i = 0\n",
    "    while i < len(NeighborPts):    \n",
    "        \n",
    "        # Get the next point from the queue.        \n",
    "        Pn = NeighborPts[i]\n",
    "       \n",
    "        if labels[Pn] == -1:\n",
    "            labels[Pn] = C\n",
    "        elif labels[Pn] == 0:\n",
    "            labels[Pn] = C\n",
    "\n",
    "            PnNeighborPts = regionQuery(D, Pn, eps)\n",
    "\n",
    "            if len(PnNeighborPts) >= MinPts:\n",
    "                NeighborPts = NeighborPts + PnNeighborPts\n",
    "\n",
    "        i += 1        \n"
   ]
  },
  {
   "cell_type": "code",
   "execution_count": 16,
   "metadata": {},
   "outputs": [],
   "source": [
    "#@jit\n",
    "def regionQuery(D, P, eps):\n",
    "\n",
    "    neighbors = []\n",
    "    \n",
    "    # For each point in the dataset...\n",
    "    for Pn in range(0, len(D)):\n",
    "        \n",
    "        # If the distance is below the threshold, add it to the neighbors list.\n",
    "        if numpy.linalg.norm(D[P] - D[Pn]) < eps:\n",
    "            neighbors.append(Pn)\n",
    "            \n",
    "    return neighbors\n"
   ]
  },
  {
   "cell_type": "code",
   "execution_count": 17,
   "metadata": {},
   "outputs": [
    {
     "ename": "NameError",
     "evalue": "name 'end' is not defined",
     "output_type": "error",
     "traceback": [
      "\u001b[0;31m---------------------------------------------------------------------------\u001b[0m",
      "\u001b[0;31mNameError\u001b[0m                                 Traceback (most recent call last)",
      "\u001b[0;32m<ipython-input-17-dd65bf93a9f3>\u001b[0m in \u001b[0;36m<module>\u001b[0;34m\u001b[0m\n\u001b[1;32m      9\u001b[0m \u001b[0;34m\u001b[0m\u001b[0m\n\u001b[1;32m     10\u001b[0m \u001b[0mtime_dbscan\u001b[0m \u001b[0;34m=\u001b[0m \u001b[0mend_dbscan\u001b[0m \u001b[0;34m-\u001b[0m \u001b[0mstart_dbscan\u001b[0m\u001b[0;34m\u001b[0m\u001b[0;34m\u001b[0m\u001b[0m\n\u001b[0;32m---> 11\u001b[0;31m \u001b[0mprint\u001b[0m\u001b[0;34m(\u001b[0m\u001b[0;34m\"Elapsed (after compilation) = %s\"\u001b[0m \u001b[0;34m%\u001b[0m \u001b[0;34m(\u001b[0m\u001b[0mend\u001b[0m \u001b[0;34m-\u001b[0m \u001b[0mstart\u001b[0m\u001b[0;34m)\u001b[0m\u001b[0;34m)\u001b[0m\u001b[0;34m\u001b[0m\u001b[0;34m\u001b[0m\u001b[0m\n\u001b[0m\u001b[1;32m     12\u001b[0m \u001b[0;34m\u001b[0m\u001b[0m\n\u001b[1;32m     13\u001b[0m \u001b[0;34m\u001b[0m\u001b[0m\n",
      "\u001b[0;31mNameError\u001b[0m: name 'end' is not defined"
     ]
    }
   ],
   "source": [
    "#DBSCAN\n",
    "X = StandardScaler().fit_transform(X)\n",
    "my_labels = MyDBSCAN(X, eps=0.3, MinPts=10)\n",
    "\n",
    "start_dbscan = time.time()\n",
    "X = StandardScaler().fit_transform(X)\n",
    "my_labels = MyDBSCAN(X, eps=0.3, MinPts=10)\n",
    "end_dbscan = time.time()\n",
    "\n",
    "time_dbscan = end_dbscan - start_dbscan\n",
    "print(\"Elapsed (after compilation) = %s\" % (time_dbscan))\n",
    "\n",
    "\n",
    "db = DBSCAN(eps=0.3, min_samples=10).fit(X)\n",
    "skl_labels = db.labels_\n",
    "\n",
    "# Scikit learn uses -1 to for NOISE, and starts cluster labeling at 0. I start numbering at 1, so increment the skl cluster numbers by 1.\n",
    "for i in range(0, len(skl_labels)):\n",
    "    if not skl_labels[i] == -1:\n",
    "        skl_labels[i] += 1\n",
    "\n",
    "num_disagree = 0\n",
    "# Go through each label and make sure they match (print the labels if they # don't)\n",
    "count = 0\n",
    "for i in range(0, len(skl_labels)):\n",
    "    if not skl_labels[i] == my_labels[i]:\n",
    "        print('Scikit learn:', skl_labels[i], 'mine:', my_labels[i])\n",
    "        num_disagree += 1\n",
    "    else:\n",
    "        count = count +1 \n",
    "\n",
    "if num_disagree == 0:\n",
    "    print('PASS - All labels match!')\n",
    "else:\n",
    "    print('FAIL -', num_disagree, 'labels don\\'t match.')\n",
    "\n",
    "accuracy_dbscan = float(count)/len(skl_labels)\n",
    "print(accuracy_dbscan)"
   ]
  },
  {
   "cell_type": "code",
   "execution_count": 29,
   "metadata": {},
   "outputs": [],
   "source": [
    "X= X_population\n",
    "\n",
    "if(accuracy_dbscan > accuracy_kmeans):\n",
    "    X = StandardScaler().fit_transform(X)\n",
    "    my_labels = MyDBSCAN(X, eps=0.3, MinPts=10)\n",
    "else:\n",
    "    classes = np.zeros(X.shape[0], dtype=np.float64)\n",
    "    distances = np.zeros([X.shape[0], k], dtype=np.float64)\n",
    "    centroids, classes = MyKMeans(maxiter)"
   ]
  },
  {
   "cell_type": "code",
   "execution_count": null,
   "metadata": {},
   "outputs": [],
   "source": []
  },
  {
   "cell_type": "code",
   "execution_count": null,
   "metadata": {},
   "outputs": [],
   "source": []
  }
 ],
 "metadata": {
  "kernelspec": {
   "display_name": "Python 3",
   "language": "python",
   "name": "python3"
  },
  "language_info": {
   "codemirror_mode": {
    "name": "ipython",
    "version": 3
   },
   "file_extension": ".py",
   "mimetype": "text/x-python",
   "name": "python",
   "nbconvert_exporter": "python",
   "pygments_lexer": "ipython3",
   "version": "3.7.4"
  }
 },
 "nbformat": 4,
 "nbformat_minor": 2
}
